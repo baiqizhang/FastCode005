{
 "cells": [
  {
   "cell_type": "code",
   "execution_count": 86,
   "metadata": {
    "collapsed": false
   },
   "outputs": [
    {
     "data": {
      "text/plain": [
       "  3\n",
       " 32\n",
       " 32\n",
       "[torch.LongStorage of size 3]\n",
       "\n"
      ]
     },
     "execution_count": 86,
     "metadata": {},
     "output_type": "execute_result"
    },
    {
     "data": {
      "image/png": "[encoded data removed]",
      "text/plain": [
       "Console does not support images"
      ]
     },
     "metadata": {
      "image/png": {
       "height": 32,
       "width": 32
      }
     },
     "output_type": "display_data"
    },
    {
     "data": {
      "text/plain": [
       "  1\n",
       "  3\n",
       " 32\n",
       " 32\n",
       "[torch.LongStorage of size 4]\n",
       "\n"
      ]
     },
     "execution_count": 86,
     "metadata": {},
     "output_type": "execute_result"
    }
   ],
   "source": [
    "img = image.load('oxbuild/training/ashmolean_000007|2.jpg',3,'byte')\n",
    "img = image.scale(img,'^32')\n",
    "img = image.crop(img,'c',32,32)\n",
    "print(#img)\n",
    "itorch.image(img)\n",
    "tensor = torch.Tensor(torch.LongStorage({1,3,32,32}))\n",
    "tensor[1] = img\n",
    "print(#tensor)"
   ]
  },
  {
   "cell_type": "code",
   "execution_count": 87,
   "metadata": {
    "collapsed": false
   },
   "outputs": [
    {
     "data": {
      "text/plain": [
       "2\t\n",
       "2\t\n"
      ]
     },
     "execution_count": 87,
     "metadata": {},
     "output_type": "execute_result"
    }
   ],
   "source": [
    "name = 'ashmolean_000007|2.jpg'\n",
    "label = tonumber(string.split(name,'|')[2]:sub(1,1))\n",
    "print(label)\n",
    "\n",
    "prefix = name:sub(1,2)\n",
    "if (prefix == 'al') then\n",
    "    label = 1\n",
    "end\n",
    "if (prefix == 'as') then\n",
    "    label = 2\n",
    "end\n",
    "if (prefix == 'ch') then\n",
    "    label = 3\n",
    "end\n",
    "if (prefix == 'he') then\n",
    "    label = 4\n",
    "end\n",
    "if (prefix == 'ra') then\n",
    "    label = 5\n",
    "end\n",
    "print(label)"
   ]
  },
  {
   "cell_type": "code",
   "execution_count": 88,
   "metadata": {
    "collapsed": false
   },
   "outputs": [
    {
     "data": {
      "text/plain": [
       " 102\n",
       "   3\n",
       "  32\n",
       "  32\n",
       "[torch.LongStorage of size 4]\n",
       "\n",
       " 102\n",
       "[torch.LongStorage of size 1]\n",
       "\n",
       "{\n",
       "  data : DoubleTensor - size: 102x3x32x32\n",
       "  label : DoubleTensor - size: 102\n",
       "}\n"
      ]
     },
     "execution_count": 88,
     "metadata": {},
     "output_type": "execute_result"
    }
   ],
   "source": [
    "require 'image'\n",
    "require 'paths'\n",
    "N = 0\n",
    "for f in paths.files('oxbuild/training/') do\n",
    "    if f:sub(1,1)~='.' then\n",
    "        N=N+1\n",
    "    end\n",
    "end\n",
    "\n",
    "data = torch.Tensor(torch.LongStorage({N,3,32,32}))\n",
    "label = torch.Tensor(torch.LongStorage({N}))\n",
    "\n",
    "i = 1\n",
    "for name in paths.files('oxbuild/training/') do\n",
    "    if name:sub(1,1)~='.' then\n",
    "        img = image.load('oxbuild/training/'..name,3,'byte')\n",
    "        img = image.scale(img,'^32')\n",
    "        img = image.crop(img,'c',32,32)\n",
    "        data[i] = img\n",
    "        label[i] = tonumber(string.split(name,'|')[2]:sub(1,1))\n",
    "        i = i+1\n",
    "    end\n",
    "end\n",
    "\n",
    "\n",
    "print(#data)\n",
    "print(#label)\n",
    "-- print(label)\n",
    "\n",
    "trainset = {}\n",
    "trainset.data = data\n",
    "trainset.label = label\n",
    "print(trainset)"
   ]
  },
  {
   "cell_type": "code",
   "execution_count": 89,
   "metadata": {
    "collapsed": false
   },
   "outputs": [],
   "source": [
    "N = 0\n",
    "for f in paths.files('oxbuild/classification/') do\n",
    "    if f:sub(1,1)~='.' then\n",
    "        N=N+1\n",
    "    end\n",
    "end\n",
    "\n",
    "data = torch.Tensor(torch.LongStorage({N,3,32,32}))\n",
    "label = torch.Tensor(torch.LongStorage({N}))\n",
    "\n",
    "i = 1\n",
    "for f in paths.files('oxbuild/classification/') do\n",
    "    if f:sub(1,1)~='.' then\n",
    "        img = image.load('oxbuild/classification/'..f,3,'byte')\n",
    "        img = image.scale(img,'^32')\n",
    "        img = image.crop(img,'c',32,32)\n",
    "        data[i] = img\n",
    "        class = f:sub(1,2)\n",
    "        if (class == 'al') then\n",
    "            label[i] = 1\n",
    "        end\n",
    "        if (class == 'as') then\n",
    "            label[i] = 2\n",
    "        end\n",
    "        if (class == 'ch') then\n",
    "            label[i] = 3\n",
    "        end\n",
    "        if (class == 'he') then\n",
    "            label[i] = 4\n",
    "        end\n",
    "        if (class == 'ra') then\n",
    "            label[i] = 5\n",
    "        end\n",
    "        i = i+1\n",
    "    end\n",
    "end\n",
    "\n",
    "\n",
    "-- print(#data)\n",
    "-- print(#label)\n",
    "-- -- print(label)\n",
    "\n",
    "testset = {}\n",
    "testset.data = data\n",
    "testset.label = label\n",
    "print(testset)"
   ]
  },
  {
   "cell_type": "code",
   "execution_count": 90,
   "metadata": {
    "collapsed": false,
    "scrolled": true
   },
   "outputs": [
    {
     "data": {
      "text/plain": [
       "{\n",
       "  data : DoubleTensor - size: 102x3x32x32\n",
       "  label : DoubleTensor - size: 102\n",
       "}\n",
       " 102\n",
       "   3\n",
       "  32\n",
       "  32\n",
       "[torch.LongStorage of size 4]\n",
       "\n"
      ]
     },
     "execution_count": 90,
     "metadata": {},
     "output_type": "execute_result"
    },
    {
     "data": {
      "image/png": "[encoded data removed]",
      "text/plain": [
       "Console does not support images"
      ]
     },
     "metadata": {
      "image/png": {
       "height": 32,
       "width": 32
      }
     },
     "output_type": "display_data"
    },
    {
     "data": {
      "text/plain": [
       "all_souls\t\n"
      ]
     },
     "execution_count": 90,
     "metadata": {},
     "output_type": "execute_result"
    },
    {
     "data": {
      "image/png": "[encoded data removed]",
      "text/plain": [
       "Console does not support images"
      ]
     },
     "metadata": {
      "image/png": {
       "height": 32,
       "width": 32
      }
     },
     "output_type": "display_data"
    }
   ],
   "source": [
    "classes = {'all_souls', 'ashmolean', 'christ_church', 'hertford',\n",
    "           'radcliffe_camera', 'distractor'}\n",
    "print(trainset)\n",
    "print(#trainset.data)\n",
    "itorch.image(trainset.data[20]) -- display the 100-th image in dataset\n",
    "print(classes[trainset.label[20]])\n",
    "\n",
    "itorch.image(testset.data[40]) -- display the 100-th image in dataset\n",
    "print(classes[testset.label[40]])\n",
    "\n",
    "-- ignore setmetatable for now, it is a feature beyond the scope of this tutorial. It sets the index operator.\n",
    "setmetatable(trainset, \n",
    "    {__index = function(t, i) \n",
    "                    return {t.data[i], t.label[i]} \n",
    "                end}\n",
    ");\n",
    "trainset.data = trainset.data:double() -- convert the data from a ByteTensor to a DoubleTensor.\n",
    "\n",
    "function trainset:size() \n",
    "    return self.data:size(1) \n",
    "end"
   ]
  },
  {
   "cell_type": "code",
   "execution_count": 91,
   "metadata": {
    "collapsed": false
   },
   "outputs": [],
   "source": [
    "mean = {0,0,0} -- store the mean, to normalize the test set in the future\n",
    "stdv = {1,1,1} -- store the standard-deviation for the future\n",
    "-- mean = {}\n",
    "-- stdv = {}\n",
    "-- for i=1,3 do -- over each image channel\n",
    "--     mean[i] = trainset.data[{ {}, {i}, {}, {}  }]:mean() -- mean estimation\n",
    "--     print('Channel ' .. i .. ', Mean: ' .. mean[i])\n",
    "--     trainset.data[{ {}, {i}, {}, {}  }]:add(-mean[i]) -- mean subtraction\n",
    "    \n",
    "--     stdv[i] = trainset.data[{ {}, {i}, {}, {}  }]:std() -- std estimation\n",
    "--     print('Channel ' .. i .. ', Standard Deviation: ' .. stdv[i])\n",
    "--     trainset.data[{ {}, {i}, {}, {}  }]:div(stdv[i]) -- std scaling\n",
    "-- end"
   ]
  },
  {
   "cell_type": "code",
   "execution_count": 92,
   "metadata": {
    "collapsed": false
   },
   "outputs": [
    {
     "data": {
      "text/plain": [
       "# StochasticGradient: training\t\n"
      ]
     },
     "execution_count": 92,
     "metadata": {},
     "output_type": "execute_result"
    },
    {
     "data": {
      "text/plain": [
       "# current error = 1.7039355529101\t\n"
      ]
     },
     "execution_count": 92,
     "metadata": {},
     "output_type": "execute_result"
    },
    {
     "data": {
      "text/plain": [
       "# current error = 1.5767913382155\t\n"
      ]
     },
     "execution_count": 92,
     "metadata": {},
     "output_type": "execute_result"
    },
    {
     "data": {
      "text/plain": [
       "# current error = 1.530266535549\t\n"
      ]
     },
     "execution_count": 92,
     "metadata": {},
     "output_type": "execute_result"
    },
    {
     "data": {
      "text/plain": [
       "# current error = 1.4558789483663\t\n"
      ]
     },
     "execution_count": 92,
     "metadata": {},
     "output_type": "execute_result"
    },
    {
     "data": {
      "text/plain": [
       "# current error = 1.2829425762211\t\n"
      ]
     },
     "execution_count": 92,
     "metadata": {},
     "output_type": "execute_result"
    },
    {
     "data": {
      "text/plain": [
       "# current error = 1.131540246996\t\n"
      ]
     },
     "execution_count": 92,
     "metadata": {},
     "output_type": "execute_result"
    },
    {
     "data": {
      "text/plain": [
       "# current error = 0.93066124676871\t\n"
      ]
     },
     "execution_count": 92,
     "metadata": {},
     "output_type": "execute_result"
    },
    {
     "data": {
      "text/plain": [
       "# current error = 0.64280958068876\t\n"
      ]
     },
     "execution_count": 92,
     "metadata": {},
     "output_type": "execute_result"
    },
    {
     "data": {
      "text/plain": [
       "# current error = 0.46746220748252\t\n"
      ]
     },
     "execution_count": 92,
     "metadata": {},
     "output_type": "execute_result"
    },
    {
     "data": {
      "text/plain": [
       "# current error = 0.73406440974318\t\n"
      ]
     },
     "execution_count": 92,
     "metadata": {},
     "output_type": "execute_result"
    },
    {
     "data": {
      "text/plain": [
       "# current error = 0.2662719868123\t"
      ]
     },
     "execution_count": 92,
     "metadata": {},
     "output_type": "execute_result"
    },
    {
     "data": {
      "text/plain": [
       "\n"
      ]
     },
     "execution_count": 92,
     "metadata": {},
     "output_type": "execute_result"
    },
    {
     "data": {
      "text/plain": [
       "# current error = 0.32464345996484\t\n"
      ]
     },
     "execution_count": 92,
     "metadata": {},
     "output_type": "execute_result"
    },
    {
     "data": {
      "text/plain": [
       "# current error = 0.083417970410965\t\n"
      ]
     },
     "execution_count": 92,
     "metadata": {},
     "output_type": "execute_result"
    },
    {
     "data": {
      "text/plain": [
       "# current error = 0.45131711727278\t\n"
      ]
     },
     "execution_count": 92,
     "metadata": {},
     "output_type": "execute_result"
    },
    {
     "data": {
      "text/plain": [
       "# current error = 0.11290741434025\t\n"
      ]
     },
     "execution_count": 92,
     "metadata": {},
     "output_type": "execute_result"
    },
    {
     "data": {
      "text/plain": [
       "# current error = 0.071036465386967\t\n"
      ]
     },
     "execution_count": 92,
     "metadata": {},
     "output_type": "execute_result"
    },
    {
     "data": {
      "text/plain": [
       "# current error = 0.011052587583535\t\n"
      ]
     },
     "execution_count": 92,
     "metadata": {},
     "output_type": "execute_result"
    },
    {
     "data": {
      "text/plain": [
       "# current error = 0.0057456720794135\t\n"
      ]
     },
     "execution_count": 92,
     "metadata": {},
     "output_type": "execute_result"
    },
    {
     "data": {
      "text/plain": [
       "# current error = 0.004122604967249\t\n"
      ]
     },
     "execution_count": 92,
     "metadata": {},
     "output_type": "execute_result"
    },
    {
     "data": {
      "text/plain": [
       "# current error = 0.0032680536478029\t\n"
      ]
     },
     "execution_count": 92,
     "metadata": {},
     "output_type": "execute_result"
    },
    {
     "data": {
      "text/plain": [
       "# current error = 0.0027065412638878\t\n"
      ]
     },
     "execution_count": 92,
     "metadata": {},
     "output_type": "execute_result"
    },
    {
     "data": {
      "text/plain": [
       "# current error = 0.0023127946437189\t\n"
      ]
     },
     "execution_count": 92,
     "metadata": {},
     "output_type": "execute_result"
    },
    {
     "data": {
      "text/plain": [
       "# current error = 0.0020213300200683\t\n"
      ]
     },
     "execution_count": 92,
     "metadata": {},
     "output_type": "execute_result"
    },
    {
     "data": {
      "text/plain": [
       "# current error = 0.0017995216556691\t\n"
      ]
     },
     "execution_count": 92,
     "metadata": {},
     "output_type": "execute_result"
    },
    {
     "data": {
      "text/plain": [
       "# current error = 0.0016258306749287\t\n"
      ]
     },
     "execution_count": 92,
     "metadata": {},
     "output_type": "execute_result"
    },
    {
     "data": {
      "text/plain": [
       "# current error = 0.0014814448738853\t\n"
      ]
     },
     "execution_count": 92,
     "metadata": {},
     "output_type": "execute_result"
    },
    {
     "data": {
      "text/plain": [
       "# current error = 0.0013646254652272\t\n"
      ]
     },
     "execution_count": 92,
     "metadata": {},
     "output_type": "execute_result"
    },
    {
     "data": {
      "text/plain": [
       "# current error = 0.0012623693831424\t\n"
      ]
     },
     "execution_count": 92,
     "metadata": {},
     "output_type": "execute_result"
    },
    {
     "data": {
      "text/plain": [
       "# current error = 0.0011749897361323\t\n"
      ]
     },
     "execution_count": 92,
     "metadata": {},
     "output_type": "execute_result"
    },
    {
     "data": {
      "text/plain": [
       "# current error = 0.0010984797535182\t\n"
      ]
     },
     "execution_count": 92,
     "metadata": {},
     "output_type": "execute_result"
    },
    {
     "data": {
      "text/plain": [
       "# current error = 0.0010302146260475\t\n"
      ]
     },
     "execution_count": 92,
     "metadata": {},
     "output_type": "execute_result"
    },
    {
     "data": {
      "text/plain": [
       "# current error = 0.00097036615224796\t\n"
      ]
     },
     "execution_count": 92,
     "metadata": {},
     "output_type": "execute_result"
    },
    {
     "data": {
      "text/plain": [
       "# current error = 0.00091558233684961\t\n"
      ]
     },
     "execution_count": 92,
     "metadata": {},
     "output_type": "execute_result"
    },
    {
     "data": {
      "text/plain": [
       "# current error = 0.00086753538153636\t\n"
      ]
     },
     "execution_count": 92,
     "metadata": {},
     "output_type": "execute_result"
    },
    {
     "data": {
      "text/plain": [
       "# current error = 0.00082440346068107\t\n"
      ]
     },
     "execution_count": 92,
     "metadata": {},
     "output_type": "execute_result"
    },
    {
     "data": {
      "text/plain": [
       "# current error = 0.00078611613743211\t\n"
      ]
     },
     "execution_count": 92,
     "metadata": {},
     "output_type": "execute_result"
    },
    {
     "data": {
      "text/plain": [
       "# current error = 0.00075099991875901\t\n"
      ]
     },
     "execution_count": 92,
     "metadata": {},
     "output_type": "execute_result"
    },
    {
     "data": {
      "text/plain": [
       "# current error = 0.00071887643969844\t\n"
      ]
     },
     "execution_count": 92,
     "metadata": {},
     "output_type": "execute_result"
    },
    {
     "data": {
      "text/plain": [
       "# current error = 0.00068956633136409\t\n"
      ]
     },
     "execution_count": 92,
     "metadata": {},
     "output_type": "execute_result"
    },
    {
     "data": {
      "text/plain": [
       "# current error = 0.00066133860375582\t\n"
      ]
     },
     "execution_count": 92,
     "metadata": {},
     "output_type": "execute_result"
    },
    {
     "data": {
      "text/plain": [
       "# current error = 0.0006359517521119\t\n"
      ]
     },
     "execution_count": 92,
     "metadata": {},
     "output_type": "execute_result"
    },
    {
     "data": {
      "text/plain": [
       "# current error = 0.00061214247523707\t\n"
      ]
     },
     "execution_count": 92,
     "metadata": {},
     "output_type": "execute_result"
    },
    {
     "data": {
      "text/plain": [
       "# current error = 0.00058991173778915\t\n"
      ]
     },
     "execution_count": 92,
     "metadata": {},
     "output_type": "execute_result"
    },
    {
     "data": {
      "text/plain": [
       "# current error = 0.00056909572155367\t\n"
      ]
     },
     "execution_count": 92,
     "metadata": {},
     "output_type": "execute_result"
    },
    {
     "data": {
      "text/plain": [
       "# current error = 0.00055006346176249\t\n"
      ]
     },
     "execution_count": 92,
     "metadata": {},
     "output_type": "execute_result"
    },
    {
     "data": {
      "text/plain": [
       "# current error = 0.00053170372025894\t\n"
      ]
     },
     "execution_count": 92,
     "metadata": {},
     "output_type": "execute_result"
    },
    {
     "data": {
      "text/plain": [
       "# current error = 0.00051484230240881\t\n"
      ]
     },
     "execution_count": 92,
     "metadata": {},
     "output_type": "execute_result"
    },
    {
     "data": {
      "text/plain": [
       "# current error = 0.00049927365408107\t\n"
      ]
     },
     "execution_count": 92,
     "metadata": {},
     "output_type": "execute_result"
    },
    {
     "data": {
      "text/plain": [
       "# current error = 0.00048467247561112\t\n"
      ]
     },
     "execution_count": 92,
     "metadata": {},
     "output_type": "execute_result"
    }
   ],
   "source": [
    "require 'nn';\n",
    "net = nn.Sequential()\n",
    "net:add(nn.SpatialConvolution(3, 6, 5, 5)) -- 3 input image channels, 6 output channels, 5x5 convolution kernel\n",
    "net:add(nn.ReLU())                       -- non-linearity \n",
    "net:add(nn.SpatialMaxPooling(2,2,2,2))     -- A max-pooling operation that looks at 2x2 windows and finds the max.\n",
    "net:add(nn.SpatialConvolution(6, 16, 5, 5))\n",
    "net:add(nn.ReLU())                       -- non-linearity \n",
    "net:add(nn.SpatialMaxPooling(2,2,2,2))\n",
    "net:add(nn.View(16*5*5))                    -- reshapes from a 3D tensor of 16x5x5 into 1D tensor of 16*5*5\n",
    "net:add(nn.Linear(16*5*5, 120))             -- fully connected layer (matrix multiplication between input and weights)\n",
    "net:add(nn.ReLU())                       -- non-linearity \n",
    "net:add(nn.Linear(120, 84))\n",
    "net:add(nn.ReLU())                       -- non-linearity \n",
    "net:add(nn.Linear(84, 6))                   -- 10 is the number of outputs of the network (in this case, 10 digits)\n",
    "net:add(nn.LogSoftMax())                     -- converts the output to a log-probability. Useful for classification problems\n",
    "-- net = net:cuda() --use cuda\n",
    "\n",
    "criterion = nn.ClassNLLCriterion() --Loss function\n",
    "-- criterion = criterion:cuda() --use cuda\n",
    "\n",
    "trainer = nn.StochasticGradient(net, criterion)\n",
    "trainer.learningRate = 0.001\n",
    "trainer.maxIteration = 50 -- just do 5 epochs of training.\n",
    "trainer:train(trainset)"
   ]
  },
  {
   "cell_type": "code",
   "execution_count": 93,
   "metadata": {
    "collapsed": false
   },
   "outputs": [
    {
     "data": {
      "text/plain": [
       "radcliffe_camera\t\n"
      ]
     },
     "execution_count": 93,
     "metadata": {},
     "output_type": "execute_result"
    },
    {
     "data": {
      "image/png": "[encoded data removed]",
      "text/plain": [
       "Console does not support images"
      ]
     },
     "metadata": {
      "image/png": {
       "height": 32,
       "width": 32
      }
     },
     "output_type": "display_data"
    },
    {
     "data": {
      "text/plain": [
       "all_souls\t0.0001431399164268\t\n",
       "ashmolean\t3.1136443508317e-05\t\n",
       "christ_church\t3.4252657289964e-06\t\n",
       "hertford\t2.1057017378702e-05\t\n",
       "radcliffe_camera\t3.274438444708e-05\t\n",
       "distractor\t0.99975349707476\t\n"
      ]
     },
     "execution_count": 93,
     "metadata": {},
     "output_type": "execute_result"
    }
   ],
   "source": [
    "testset.data = testset.data:double()   -- convert from Byte tensor to Double tensor\n",
    "for i=1,3 do -- over each image channel\n",
    "    testset.data[{ {}, {i}, {}, {}  }]:add(-mean[i]) -- mean subtraction    \n",
    "    testset.data[{ {}, {i}, {}, {}  }]:div(stdv[i]) -- std scaling\n",
    "end\n",
    "i = 93\n",
    "print(classes[testset.label[i]])\n",
    "itorch.image(testset.data[i])\n",
    "predicted = net:forward(testset.data[i])\n",
    "\n",
    "predicted:exp()\n",
    "for i=1,predicted:size(1) do\n",
    "    print(classes[i], predicted[i])\n",
    "end"
   ]
  },
  {
   "cell_type": "code",
   "execution_count": 94,
   "metadata": {
    "collapsed": false
   },
   "outputs": [
    {
     "data": {
      "text/plain": [
       "40\t40 % \t\n"
      ]
     },
     "execution_count": 94,
     "metadata": {},
     "output_type": "execute_result"
    },
    {
     "data": {
      "text/plain": [
       "all_souls\t8\t\n",
       "ashmolean\t14\t\n",
       "christ_church\t6\t\n",
       "hertford\t12\t\n",
       "radcliffe_camera\t0\t\n",
       "distractor\t0\t\n"
      ]
     },
     "execution_count": 94,
     "metadata": {},
     "output_type": "execute_result"
    }
   ],
   "source": [
    "correct = 0\n",
    "for i=1,100 do\n",
    "    local groundtruth = testset.label[i]\n",
    "    local prediction = net:forward(testset.data[i])\n",
    "    local confidences, indices = torch.sort(prediction, true)  -- true means sort in descending order\n",
    "    if groundtruth == indices[1] then\n",
    "        correct = correct + 1\n",
    "    end\n",
    "end\n",
    "print(correct, correct .. ' % ')\n",
    "\n",
    "class_performance = {0, 0, 0, 0, 0, 0}\n",
    "for i=1,100 do\n",
    "    local groundtruth = testset.label[i]\n",
    "    local prediction = net:forward(testset.data[i])\n",
    "    local confidences, indices = torch.sort(prediction, true)  -- true means sort in descending order\n",
    "    if groundtruth == indices[1] then\n",
    "        class_performance[groundtruth] = class_performance[groundtruth] + 1\n",
    "    end\n",
    "end\n",
    "for i=1,#classes do\n",
    "    print(classes[i], class_performance[i])\n",
    "end"
   ]
  },
  {
   "cell_type": "code",
   "execution_count": 101,
   "metadata": {
    "collapsed": false
   },
   "outputs": [
    {
     "data": {
      "text/plain": [
       "radcliffe_camera\t\n"
      ]
     },
     "execution_count": 101,
     "metadata": {},
     "output_type": "execute_result"
    },
    {
     "data": {
      "image/png": "[encoded data removed]",
      "text/plain": [
       "Console does not support images"
      ]
     },
     "metadata": {
      "image/png": {
       "height": 32,
       "width": 32
      }
     },
     "output_type": "display_data"
    },
    {
     "data": {
      "text/plain": [
       " 84\n",
       "[torch.LongStorage of size 1]\n",
       "\n"
      ]
     },
     "execution_count": 101,
     "metadata": {},
     "output_type": "execute_result"
    }
   ],
   "source": [
    "torch.save('mynet.dat', net)\n",
    "eval = torch.load('mynet.dat') -- eval = net:clone()\n",
    "eval:remove(#eval.modules)\n",
    "eval:remove(#eval.modules)\n",
    "\n",
    "-- Evaluate mode\n",
    "eval:evaluate()\n",
    "i = 93\n",
    "print(classes[testset.label[i]])\n",
    "itorch.image(testset.data[i])\n",
    "local output = eval:forward(testset.data[i])\n",
    "print(#output)"
   ]
  },
  {
   "cell_type": "code",
   "execution_count": 4,
   "metadata": {
    "collapsed": false
   },
   "outputs": [
    {
     "data": {
      "text/plain": [
       "{\n",
       "  data : DoubleTensor - empty\n",
       "  label : DoubleTensor - empty\n",
       "}\n"
      ]
     },
     "execution_count": 4,
     "metadata": {},
     "output_type": "execute_result"
    }
   ],
   "source": [
    "require 'paths';\n",
    "require 'nn';\n",
    "require 'image'\n",
    "\n",
    "N = 0\n",
    "names = {}\n",
    "for line in io.lines() do\n",
    "    N=N+1\n",
    "    names[N] = line\n",
    "end\n",
    "\n",
    "data = torch.Tensor(torch.LongStorage({N,3,32,32}))\n",
    "label = torch.Tensor(torch.LongStorage({N}))\n",
    "for i=1,N do\n",
    "    f = names[i]\n",
    "    img = image.load('../../../team/oxbuild/classification/'..f,3,'byte')\n",
    "    img = image.scale(img,'^32')\n",
    "    img = image.crop(img,'c',32,32)\n",
    "    data[i] = img\n",
    "    class = f:sub(1,2)\n",
    "    if (class == 'al') then\n",
    "        label[i] = 1\n",
    "    end\n",
    "    if (class == 'as') then\n",
    "        label[i] = 2\n",
    "    end\n",
    "    if (class == 'ch') then\n",
    "        label[i] = 3\n",
    "    end\n",
    "    if (class == 'he') then\n",
    "        label[i] = 4\n",
    "    end\n",
    "    if (class == 'ra') then\n",
    "        label[i] = 5\n",
    "    end\n",
    "    names[i] = f\n",
    "    i = i+1\n",
    "end\n",
    "\n",
    "-- print(#data)\n",
    "-- print(#label)\n",
    "-- -- print(label)\n",
    "\n",
    "testset = {}\n",
    "testset.data = data\n",
    "testset.label = label\n",
    "print(testset)\n",
    "\n",
    "-- export = torch.load('oxbuild.dat','ascii')\n",
    "\n",
    "-- net = export.net\n",
    "-- mean = export.mean\n",
    "-- stdv = export.stdv\n",
    "\n",
    "-- classes = {'all_souls', 'ashmolean', 'christ_church', 'hertford',\n",
    "--            'radcliffe_camera', 'distractor'}\n",
    "           \n",
    "-- testset.data = testset.data:double()   -- convert from Byte tensor to Double tensor\n",
    "-- for i=1,3 do -- over each image channel\n",
    "--     testset.data[{ {}, {i}, {}, {}  }]:add(-mean[i]) -- mean subtraction    \n",
    "--     testset.data[{ {}, {i}, {}, {}  }]:div(stdv[i]) -- std scaling\n",
    "-- end\n",
    "\n",
    "-- -- Evaluate mode\n",
    "-- net:evaluate()\n",
    "\n",
    "-- i = 1\n",
    "-- output = net:forward(testset.data[i])\n",
    "-- print(output:exp())\n",
    "-- print(names[i])\n"
   ]
  },
  {
   "cell_type": "code",
   "execution_count": null,
   "metadata": {
    "collapsed": false
   },
   "outputs": [],
   "source": []
  },
  {
   "cell_type": "code",
   "execution_count": null,
   "metadata": {
    "collapsed": true
   },
   "outputs": [],
   "source": []
  }
 ],
 "metadata": {
  "kernelspec": {
   "display_name": "iTorch",
   "language": "lua",
   "name": "itorch"
  },
  "language_info": {
   "name": "lua",
   "version": "5.1"
  }
 },
 "nbformat": 4,
 "nbformat_minor": 0
}
